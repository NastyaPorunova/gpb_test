{
  "nbformat": 4,
  "nbformat_minor": 0,
  "metadata": {
    "colab": {
      "provenance": [],
      "authorship_tag": "ABX9TyNMbY6g+5QgWvsqUYA+OUYk",
      "include_colab_link": true
    },
    "kernelspec": {
      "name": "python3",
      "display_name": "Python 3"
    },
    "language_info": {
      "name": "python"
    }
  },
  "cells": [
    {
      "cell_type": "markdown",
      "metadata": {
        "id": "view-in-github",
        "colab_type": "text"
      },
      "source": [
        "<a href=\"https://colab.research.google.com/github/NastyaPorunova/gpb_test/blob/main/%D0%97%D0%B0%D0%B4%D0%B0%D0%BD%D0%B8%D0%B5%201.ipynb\" target=\"_parent\"><img src=\"https://colab.research.google.com/assets/colab-badge.svg\" alt=\"Open In Colab\"/></a>"
      ]
    },
    {
      "cell_type": "markdown",
      "source": [
        "Имеется таблица сделок по следующему формату. Строк в таблице за один торговый день может быть миллионы, время сделки определяется с точностью до миллисекунды, сделки попадают в таблицу строго по хронологии, цена сделки формируется за счет заявок на покупку и продажу рыночных участников. В случае несовпадения мнений продавцов и покупателей относительно цены сделки могут определенный период не проводиться, пока не будет найден компромисс, что указывает на неоднородность периодов между сделками. №сделки;Названиеакции;Время;Цена;Количествобумаг Задача: Написать скрипт по поиску мошеннической сделки по критерию – отклонение от рыночной цены более чем на 10 %"
      ],
      "metadata": {
        "id": "Fm88Z0W7ZRkh"
      }
    },
    {
      "cell_type": "code",
      "source": [
        "import numpy as np\n",
        "import pandas as pd\n",
        "\n",
        "data = pd.io.excel.read_excel(r'/content/газпром 2023 апрель.xlsx')\n",
        "fraudulent_transactions = pd.DataFrame()\n",
        "stock_names = data['название акции'].unique()\n",
        "n = 7 #сколько последних сделок учитывать в подстчете рыночной цены акции; может варьироваться\n",
        "\n",
        "for name in stock_names:\n",
        "  df = data[data['название акции'] == name].tail(n).reset_index(drop=True)\n",
        "  mean = df['цена'].mean()\n",
        "  for i in range(n):\n",
        "    if ((df['цена'][i] - mean) / mean * 100 > 10):\n",
        "      fraudulent_transactions = fraudulent_transactions.append(df.loc[i])\n",
        "\n",
        "fraudulent_transactions"
      ],
      "metadata": {
        "id": "ST39_AutZSrX"
      },
      "execution_count": null,
      "outputs": []
    }
  ]
}