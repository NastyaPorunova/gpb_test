{
  "nbformat": 4,
  "nbformat_minor": 0,
  "metadata": {
    "colab": {
      "provenance": [],
      "authorship_tag": "ABX9TyPI9Qqw83QCoTiXvtiw1BKs",
      "include_colab_link": true
    },
    "kernelspec": {
      "name": "python3",
      "display_name": "Python 3"
    },
    "language_info": {
      "name": "python"
    }
  },
  "cells": [
    {
      "cell_type": "markdown",
      "metadata": {
        "id": "view-in-github",
        "colab_type": "text"
      },
      "source": [
        "<a href=\"https://colab.research.google.com/github/NastyaPorunova/gpb_test/blob/main/%D0%97%D0%B0%D0%B4%D0%B0%D0%BD%D0%B8%D0%B5%202.ipynb\" target=\"_parent\"><img src=\"https://colab.research.google.com/assets/colab-badge.svg\" alt=\"Open In Colab\"/></a>"
      ]
    },
    {
      "cell_type": "markdown",
      "source": [
        "Дана выгрузка учетных записей из системы управления доступом следующего вида. Таблица из 2х столбцов, где первый столбец имя учетной записи и второй столбец – роль. При наличии у учетной записи более одной роли, учетная запись записывается в несколько строк: УЗ1;роль1 УЗ1;роль2 УЗ2;роль1 УЗ3;роль1 .. УЗn;рольn Также представлена матрица, описывающая запрещенные к совмещения в рамках одной учетной записи роли. Первая строка и первый столбец матрицы/таблицы содержат названия ролей. В случаях если совмещение ролей запрещено в ячейках пересечения столбцов и строк этих ролей ставиться символ «З». Задача: составить алгоритм анализа таблицы учетных записей для выявления случаев наличия у учетной записи запрещенных к совмещению ролей."
      ],
      "metadata": {
        "id": "IsR2RuOktYkP"
      }
    },
    {
      "cell_type": "code",
      "source": [
        "import numpy as np\n",
        "import pandas as pd\n",
        "\n",
        "df = pd.read(r'путь к файлу')#выгрузка учетных записей\n",
        "rules = pd.read(r'путь к файлу')#матрица, описывающая запрещенные к совмещения в рамках одной учетной записи роли\n",
        "\n",
        "#функция ищущая несовместные роли \n",
        "def incompatibility_check(roles):\n",
        "  key = True\n",
        "  for i in range(len(roles)):\n",
        "    for j in range(i, len(roles)):\n",
        "      if rules[roles[i]][roles[j]] == 'З':\n",
        "        key = False\n",
        "  return key\n",
        "\n",
        "grouped = df.groupby(['УЗ']).agg(sum).reset_index() #группировка данных по учетным записям\n",
        "grouped.index.names = [None]\n",
        "n=5 #длина строки 'роль1'\n",
        "users_incompatibility_roles = pd.DataFrame()\n",
        "\n",
        "for i in range(grouped.shape[0]):\n",
        "  str = grouped['Роль'][i]\n",
        "  grouped['Роль'][i] =  [str[i:i+n] for i in range(0, len(str), n)] #получаем массив ролей учетной записи\n",
        "\n",
        "for i in range(grouped.shape[0]):\n",
        "  if (incompatibility_check(grouped['Роль'][i])) == False:\n",
        "    users_incompatibility_roles = users_incompatibility_roles.append(grouped.loc[i])\n",
        "\n",
        "users_incompatibility_roles\n"
      ],
      "metadata": {
        "id": "ST39_AutZSrX"
      },
      "execution_count": null,
      "outputs": []
    }
  ]
}